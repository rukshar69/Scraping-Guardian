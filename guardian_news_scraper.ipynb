{
  "nbformat": 4,
  "nbformat_minor": 0,
  "metadata": {
    "colab": {
      "provenance": [],
      "authorship_tag": "ABX9TyOaYuZNCRJ5VOpoAmxKX7el",
      "include_colab_link": true
    },
    "kernelspec": {
      "name": "python3",
      "display_name": "Python 3"
    },
    "language_info": {
      "name": "python"
    }
  },
  "cells": [
    {
      "cell_type": "markdown",
      "metadata": {
        "id": "view-in-github",
        "colab_type": "text"
      },
      "source": [
        "<a href=\"https://colab.research.google.com/github/rukshar69/Scraping-Guardian/blob/main/guardian_news_scraper.ipynb\" target=\"_parent\"><img src=\"https://colab.research.google.com/assets/colab-badge.svg\" alt=\"Open In Colab\"/></a>"
      ]
    },
    {
      "cell_type": "markdown",
      "source": [
        "# Import Libraries and Connect with google drive"
      ],
      "metadata": {
        "id": "KNKm8SxrQIah"
      }
    },
    {
      "cell_type": "code",
      "source": [
        "from google.colab import drive\n",
        "drive.mount('/content/drive/')\n",
        "#%cd /content/drive/My Drive/Colab Notebooks/\n"
      ],
      "metadata": {
        "colab": {
          "base_uri": "https://localhost:8080/"
        },
        "id": "nKN80cFcTftJ",
        "outputId": "fb05617c-8c4d-48c7-a1e5-f6d37124e823"
      },
      "execution_count": 54,
      "outputs": [
        {
          "output_type": "stream",
          "name": "stdout",
          "text": [
            "Drive already mounted at /content/drive/; to attempt to forcibly remount, call drive.mount(\"/content/drive/\", force_remount=True).\n"
          ]
        }
      ]
    },
    {
      "cell_type": "code",
      "execution_count": 55,
      "metadata": {
        "id": "GiplO6lTwgFa"
      },
      "outputs": [],
      "source": [
        "import pandas as pd\n",
        "import requests"
      ]
    },
    {
      "cell_type": "markdown",
      "source": [
        "# Call the Guardian API"
      ],
      "metadata": {
        "id": "qbTSTbhkUnJ6"
      }
    },
    {
      "cell_type": "markdown",
      "source": [
        "Documentation: https://open-platform.theguardian.com/documentation/"
      ],
      "metadata": {
        "id": "C8YUqqkQUqnF"
      }
    },
    {
      "cell_type": "code",
      "source": [
        "API_KEY=\"80e2c8a6-5298-4193-842b-00756947234c\"\n",
        "start_date = '2000-01-01'\n",
        "url=f'https://content.guardianapis.com/world/bangladesh?from-date={start_date}&api-key={API_KEY}&type=article&page=1'"
      ],
      "metadata": {
        "id": "70dIvWRnQPtA"
      },
      "execution_count": 56,
      "outputs": []
    },
    {
      "cell_type": "code",
      "source": [
        "#get the total number of search result pages\n",
        "response=requests.get(url)\n",
        "x=response.json()\n",
        "page_number = x['response']['pages'] #total number of pages with news titles"
      ],
      "metadata": {
        "id": "yU09AyeSbn_2"
      },
      "execution_count": 57,
      "outputs": []
    },
    {
      "cell_type": "code",
      "source": [
        "urllist=[]\n",
        "for i in range(1,page_number+1): #create urls for search result pages, each result page has 10 news links\n",
        "    a=f'https://content.guardianapis.com/world/bangladesh?from-date=2010-01-01&api-key={API_KEY}&type=article&page='\n",
        "    b=str(i)\n",
        "    c=a+b\n",
        "    urllist.append(c)\n",
        "len(urllist)"
      ],
      "metadata": {
        "colab": {
          "base_uri": "https://localhost:8080/"
        },
        "id": "DPCdY_lpUxI1",
        "outputId": "731d018f-61f6-4b4d-b4ab-3f5cccf88112"
      },
      "execution_count": 58,
      "outputs": [
        {
          "output_type": "execute_result",
          "data": {
            "text/plain": [
              "124"
            ]
          },
          "metadata": {},
          "execution_count": 58
        }
      ]
    },
    {
      "cell_type": "code",
      "source": [
        "info=[]\n",
        "def fetch_json(url1):\n",
        "    response=requests.get(url1)\n",
        "    x=response.json()\n",
        "    info.append(x)\n",
        "# output=[json(url1) for url1 in urllist]\n",
        "for i, url in enumerate(urllist):\n",
        "  if (i%10==0):\n",
        "    print('page: ',str(i+1))\n",
        "  fetch_json(url)"
      ],
      "metadata": {
        "colab": {
          "base_uri": "https://localhost:8080/"
        },
        "id": "c1PwCqkoVP9-",
        "outputId": "7d74cb2f-4d40-4936-cf8c-42b5ca4260b2"
      },
      "execution_count": 59,
      "outputs": [
        {
          "output_type": "stream",
          "name": "stdout",
          "text": [
            "page:  1\n",
            "page:  11\n",
            "page:  21\n",
            "page:  31\n",
            "page:  41\n",
            "page:  51\n",
            "page:  61\n",
            "page:  71\n",
            "page:  81\n",
            "page:  91\n",
            "page:  101\n",
            "page:  111\n",
            "page:  121\n"
          ]
        }
      ]
    },
    {
      "cell_type": "markdown",
      "source": [
        "# Save data in a dataframe"
      ],
      "metadata": {
        "id": "jOpYgJsLXj37"
      }
    },
    {
      "cell_type": "code",
      "source": [
        "finallist=[]\n",
        "\n",
        "try:\n",
        "    for k in range(0,len(info)): #create a list of dictionaries containing news title, tag, publish date, and urls\n",
        "        for j in range(0,10):\n",
        "            value=dict(webtitle=info[k]['response']['results'][j]['webTitle'],\n",
        "        sectionname=info[k]['response']['results'][j]['sectionId'],\n",
        "        publisheddate=info[k]['response']['results'][j]['webPublicationDate'],\n",
        "        webUrl=info[k]['response']['results'][j]['webUrl'],\n",
        "                  apiUrl=info[k]['response']['results'][j]['apiUrl'],)\n",
        "            finallist.append(value)\n",
        "except IndexError:\n",
        "    print(\"done\")"
      ],
      "metadata": {
        "colab": {
          "base_uri": "https://localhost:8080/"
        },
        "id": "dhaAi9g9XnR6",
        "outputId": "0ec694bd-2e59-4892-e043-d276633e92af"
      },
      "execution_count": 60,
      "outputs": [
        {
          "output_type": "stream",
          "name": "stdout",
          "text": [
            "done\n"
          ]
        }
      ]
    },
    {
      "cell_type": "code",
      "source": [
        "datanew=pd.DataFrame(finallist)\n",
        "datanew.tail()"
      ],
      "metadata": {
        "colab": {
          "base_uri": "https://localhost:8080/",
          "height": 206
        },
        "id": "yetKaZN8Xyws",
        "outputId": "2dfe8fbd-bf52-43c1-ead8-3746737be2d0"
      },
      "execution_count": 61,
      "outputs": [
        {
          "output_type": "execute_result",
          "data": {
            "text/plain": [
              "                                              webtitle    sectionname  \\\n",
              "984        Bangladesh calls up 1m mobile phone lessons      education   \n",
              "985         A new danger for sex workers in Bangladesh        society   \n",
              "986  Bangladesh rejects terms for £60m of climate a...    environment   \n",
              "987  Delivering aid is an inexact science | Delwar ...  commentisfree   \n",
              "988  A new start for India and Bangladesh? | Asif S...  commentisfree   \n",
              "\n",
              "            publisheddate                                             webUrl  \\\n",
              "984  2010-04-08T08:00:00Z  https://www.theguardian.com/education/2010/apr...   \n",
              "985  2010-04-05T07:00:01Z  https://www.theguardian.com/society/2010/apr/0...   \n",
              "986  2010-02-15T00:02:43Z  https://www.theguardian.com/environment/2010/f...   \n",
              "987  2010-01-28T08:30:00Z  https://www.theguardian.com/commentisfree/2010...   \n",
              "988  2010-01-19T08:00:00Z  https://www.theguardian.com/commentisfree/2010...   \n",
              "\n",
              "                                                apiUrl  \n",
              "984  https://content.guardianapis.com/education/201...  \n",
              "985  https://content.guardianapis.com/society/2010/...  \n",
              "986  https://content.guardianapis.com/environment/2...  \n",
              "987  https://content.guardianapis.com/commentisfree...  \n",
              "988  https://content.guardianapis.com/commentisfree...  "
            ],
            "text/html": [
              "\n",
              "  <div id=\"df-b25b709f-1fe1-4414-bd77-f0d9cd43ffdb\" class=\"colab-df-container\">\n",
              "    <div>\n",
              "<style scoped>\n",
              "    .dataframe tbody tr th:only-of-type {\n",
              "        vertical-align: middle;\n",
              "    }\n",
              "\n",
              "    .dataframe tbody tr th {\n",
              "        vertical-align: top;\n",
              "    }\n",
              "\n",
              "    .dataframe thead th {\n",
              "        text-align: right;\n",
              "    }\n",
              "</style>\n",
              "<table border=\"1\" class=\"dataframe\">\n",
              "  <thead>\n",
              "    <tr style=\"text-align: right;\">\n",
              "      <th></th>\n",
              "      <th>webtitle</th>\n",
              "      <th>sectionname</th>\n",
              "      <th>publisheddate</th>\n",
              "      <th>webUrl</th>\n",
              "      <th>apiUrl</th>\n",
              "    </tr>\n",
              "  </thead>\n",
              "  <tbody>\n",
              "    <tr>\n",
              "      <th>984</th>\n",
              "      <td>Bangladesh calls up 1m mobile phone lessons</td>\n",
              "      <td>education</td>\n",
              "      <td>2010-04-08T08:00:00Z</td>\n",
              "      <td>https://www.theguardian.com/education/2010/apr...</td>\n",
              "      <td>https://content.guardianapis.com/education/201...</td>\n",
              "    </tr>\n",
              "    <tr>\n",
              "      <th>985</th>\n",
              "      <td>A new danger for sex workers in Bangladesh</td>\n",
              "      <td>society</td>\n",
              "      <td>2010-04-05T07:00:01Z</td>\n",
              "      <td>https://www.theguardian.com/society/2010/apr/0...</td>\n",
              "      <td>https://content.guardianapis.com/society/2010/...</td>\n",
              "    </tr>\n",
              "    <tr>\n",
              "      <th>986</th>\n",
              "      <td>Bangladesh rejects terms for £60m of climate a...</td>\n",
              "      <td>environment</td>\n",
              "      <td>2010-02-15T00:02:43Z</td>\n",
              "      <td>https://www.theguardian.com/environment/2010/f...</td>\n",
              "      <td>https://content.guardianapis.com/environment/2...</td>\n",
              "    </tr>\n",
              "    <tr>\n",
              "      <th>987</th>\n",
              "      <td>Delivering aid is an inexact science | Delwar ...</td>\n",
              "      <td>commentisfree</td>\n",
              "      <td>2010-01-28T08:30:00Z</td>\n",
              "      <td>https://www.theguardian.com/commentisfree/2010...</td>\n",
              "      <td>https://content.guardianapis.com/commentisfree...</td>\n",
              "    </tr>\n",
              "    <tr>\n",
              "      <th>988</th>\n",
              "      <td>A new start for India and Bangladesh? | Asif S...</td>\n",
              "      <td>commentisfree</td>\n",
              "      <td>2010-01-19T08:00:00Z</td>\n",
              "      <td>https://www.theguardian.com/commentisfree/2010...</td>\n",
              "      <td>https://content.guardianapis.com/commentisfree...</td>\n",
              "    </tr>\n",
              "  </tbody>\n",
              "</table>\n",
              "</div>\n",
              "    <div class=\"colab-df-buttons\">\n",
              "\n",
              "  <div class=\"colab-df-container\">\n",
              "    <button class=\"colab-df-convert\" onclick=\"convertToInteractive('df-b25b709f-1fe1-4414-bd77-f0d9cd43ffdb')\"\n",
              "            title=\"Convert this dataframe to an interactive table.\"\n",
              "            style=\"display:none;\">\n",
              "\n",
              "  <svg xmlns=\"http://www.w3.org/2000/svg\" height=\"24px\" viewBox=\"0 -960 960 960\">\n",
              "    <path d=\"M120-120v-720h720v720H120Zm60-500h600v-160H180v160Zm220 220h160v-160H400v160Zm0 220h160v-160H400v160ZM180-400h160v-160H180v160Zm440 0h160v-160H620v160ZM180-180h160v-160H180v160Zm440 0h160v-160H620v160Z\"/>\n",
              "  </svg>\n",
              "    </button>\n",
              "\n",
              "  <style>\n",
              "    .colab-df-container {\n",
              "      display:flex;\n",
              "      gap: 12px;\n",
              "    }\n",
              "\n",
              "    .colab-df-convert {\n",
              "      background-color: #E8F0FE;\n",
              "      border: none;\n",
              "      border-radius: 50%;\n",
              "      cursor: pointer;\n",
              "      display: none;\n",
              "      fill: #1967D2;\n",
              "      height: 32px;\n",
              "      padding: 0 0 0 0;\n",
              "      width: 32px;\n",
              "    }\n",
              "\n",
              "    .colab-df-convert:hover {\n",
              "      background-color: #E2EBFA;\n",
              "      box-shadow: 0px 1px 2px rgba(60, 64, 67, 0.3), 0px 1px 3px 1px rgba(60, 64, 67, 0.15);\n",
              "      fill: #174EA6;\n",
              "    }\n",
              "\n",
              "    .colab-df-buttons div {\n",
              "      margin-bottom: 4px;\n",
              "    }\n",
              "\n",
              "    [theme=dark] .colab-df-convert {\n",
              "      background-color: #3B4455;\n",
              "      fill: #D2E3FC;\n",
              "    }\n",
              "\n",
              "    [theme=dark] .colab-df-convert:hover {\n",
              "      background-color: #434B5C;\n",
              "      box-shadow: 0px 1px 3px 1px rgba(0, 0, 0, 0.15);\n",
              "      filter: drop-shadow(0px 1px 2px rgba(0, 0, 0, 0.3));\n",
              "      fill: #FFFFFF;\n",
              "    }\n",
              "  </style>\n",
              "\n",
              "    <script>\n",
              "      const buttonEl =\n",
              "        document.querySelector('#df-b25b709f-1fe1-4414-bd77-f0d9cd43ffdb button.colab-df-convert');\n",
              "      buttonEl.style.display =\n",
              "        google.colab.kernel.accessAllowed ? 'block' : 'none';\n",
              "\n",
              "      async function convertToInteractive(key) {\n",
              "        const element = document.querySelector('#df-b25b709f-1fe1-4414-bd77-f0d9cd43ffdb');\n",
              "        const dataTable =\n",
              "          await google.colab.kernel.invokeFunction('convertToInteractive',\n",
              "                                                    [key], {});\n",
              "        if (!dataTable) return;\n",
              "\n",
              "        const docLinkHtml = 'Like what you see? Visit the ' +\n",
              "          '<a target=\"_blank\" href=https://colab.research.google.com/notebooks/data_table.ipynb>data table notebook</a>'\n",
              "          + ' to learn more about interactive tables.';\n",
              "        element.innerHTML = '';\n",
              "        dataTable['output_type'] = 'display_data';\n",
              "        await google.colab.output.renderOutput(dataTable, element);\n",
              "        const docLink = document.createElement('div');\n",
              "        docLink.innerHTML = docLinkHtml;\n",
              "        element.appendChild(docLink);\n",
              "      }\n",
              "    </script>\n",
              "  </div>\n",
              "\n",
              "\n",
              "<div id=\"df-b0c9fd0f-59b3-4dad-b299-636d79e8c850\">\n",
              "  <button class=\"colab-df-quickchart\" onclick=\"quickchart('df-b0c9fd0f-59b3-4dad-b299-636d79e8c850')\"\n",
              "            title=\"Suggest charts.\"\n",
              "            style=\"display:none;\">\n",
              "\n",
              "<svg xmlns=\"http://www.w3.org/2000/svg\" height=\"24px\"viewBox=\"0 0 24 24\"\n",
              "     width=\"24px\">\n",
              "    <g>\n",
              "        <path d=\"M19 3H5c-1.1 0-2 .9-2 2v14c0 1.1.9 2 2 2h14c1.1 0 2-.9 2-2V5c0-1.1-.9-2-2-2zM9 17H7v-7h2v7zm4 0h-2V7h2v10zm4 0h-2v-4h2v4z\"/>\n",
              "    </g>\n",
              "</svg>\n",
              "  </button>\n",
              "\n",
              "<style>\n",
              "  .colab-df-quickchart {\n",
              "      --bg-color: #E8F0FE;\n",
              "      --fill-color: #1967D2;\n",
              "      --hover-bg-color: #E2EBFA;\n",
              "      --hover-fill-color: #174EA6;\n",
              "      --disabled-fill-color: #AAA;\n",
              "      --disabled-bg-color: #DDD;\n",
              "  }\n",
              "\n",
              "  [theme=dark] .colab-df-quickchart {\n",
              "      --bg-color: #3B4455;\n",
              "      --fill-color: #D2E3FC;\n",
              "      --hover-bg-color: #434B5C;\n",
              "      --hover-fill-color: #FFFFFF;\n",
              "      --disabled-bg-color: #3B4455;\n",
              "      --disabled-fill-color: #666;\n",
              "  }\n",
              "\n",
              "  .colab-df-quickchart {\n",
              "    background-color: var(--bg-color);\n",
              "    border: none;\n",
              "    border-radius: 50%;\n",
              "    cursor: pointer;\n",
              "    display: none;\n",
              "    fill: var(--fill-color);\n",
              "    height: 32px;\n",
              "    padding: 0;\n",
              "    width: 32px;\n",
              "  }\n",
              "\n",
              "  .colab-df-quickchart:hover {\n",
              "    background-color: var(--hover-bg-color);\n",
              "    box-shadow: 0 1px 2px rgba(60, 64, 67, 0.3), 0 1px 3px 1px rgba(60, 64, 67, 0.15);\n",
              "    fill: var(--button-hover-fill-color);\n",
              "  }\n",
              "\n",
              "  .colab-df-quickchart-complete:disabled,\n",
              "  .colab-df-quickchart-complete:disabled:hover {\n",
              "    background-color: var(--disabled-bg-color);\n",
              "    fill: var(--disabled-fill-color);\n",
              "    box-shadow: none;\n",
              "  }\n",
              "\n",
              "  .colab-df-spinner {\n",
              "    border: 2px solid var(--fill-color);\n",
              "    border-color: transparent;\n",
              "    border-bottom-color: var(--fill-color);\n",
              "    animation:\n",
              "      spin 1s steps(1) infinite;\n",
              "  }\n",
              "\n",
              "  @keyframes spin {\n",
              "    0% {\n",
              "      border-color: transparent;\n",
              "      border-bottom-color: var(--fill-color);\n",
              "      border-left-color: var(--fill-color);\n",
              "    }\n",
              "    20% {\n",
              "      border-color: transparent;\n",
              "      border-left-color: var(--fill-color);\n",
              "      border-top-color: var(--fill-color);\n",
              "    }\n",
              "    30% {\n",
              "      border-color: transparent;\n",
              "      border-left-color: var(--fill-color);\n",
              "      border-top-color: var(--fill-color);\n",
              "      border-right-color: var(--fill-color);\n",
              "    }\n",
              "    40% {\n",
              "      border-color: transparent;\n",
              "      border-right-color: var(--fill-color);\n",
              "      border-top-color: var(--fill-color);\n",
              "    }\n",
              "    60% {\n",
              "      border-color: transparent;\n",
              "      border-right-color: var(--fill-color);\n",
              "    }\n",
              "    80% {\n",
              "      border-color: transparent;\n",
              "      border-right-color: var(--fill-color);\n",
              "      border-bottom-color: var(--fill-color);\n",
              "    }\n",
              "    90% {\n",
              "      border-color: transparent;\n",
              "      border-bottom-color: var(--fill-color);\n",
              "    }\n",
              "  }\n",
              "</style>\n",
              "\n",
              "  <script>\n",
              "    async function quickchart(key) {\n",
              "      const quickchartButtonEl =\n",
              "        document.querySelector('#' + key + ' button');\n",
              "      quickchartButtonEl.disabled = true;  // To prevent multiple clicks.\n",
              "      quickchartButtonEl.classList.add('colab-df-spinner');\n",
              "      try {\n",
              "        const charts = await google.colab.kernel.invokeFunction(\n",
              "            'suggestCharts', [key], {});\n",
              "      } catch (error) {\n",
              "        console.error('Error during call to suggestCharts:', error);\n",
              "      }\n",
              "      quickchartButtonEl.classList.remove('colab-df-spinner');\n",
              "      quickchartButtonEl.classList.add('colab-df-quickchart-complete');\n",
              "    }\n",
              "    (() => {\n",
              "      let quickchartButtonEl =\n",
              "        document.querySelector('#df-b0c9fd0f-59b3-4dad-b299-636d79e8c850 button');\n",
              "      quickchartButtonEl.style.display =\n",
              "        google.colab.kernel.accessAllowed ? 'block' : 'none';\n",
              "    })();\n",
              "  </script>\n",
              "</div>\n",
              "    </div>\n",
              "  </div>\n"
            ]
          },
          "metadata": {},
          "execution_count": 61
        }
      ]
    },
    {
      "cell_type": "code",
      "source": [
        "datanew.shape"
      ],
      "metadata": {
        "colab": {
          "base_uri": "https://localhost:8080/"
        },
        "id": "B6-Bs1AkbPq0",
        "outputId": "d19dc130-1b0a-4276-f8f2-8135edaa183f"
      },
      "execution_count": 62,
      "outputs": [
        {
          "output_type": "execute_result",
          "data": {
            "text/plain": [
              "(989, 5)"
            ]
          },
          "metadata": {},
          "execution_count": 62
        }
      ]
    },
    {
      "cell_type": "code",
      "source": [
        "datanew.to_csv('/content/drive/My Drive/personal_projects/scraping/guardian/bangladesh-newtitles.csv',index=False)"
      ],
      "metadata": {
        "id": "yBv9sEhQevl9"
      },
      "execution_count": 65,
      "outputs": []
    }
  ]
}